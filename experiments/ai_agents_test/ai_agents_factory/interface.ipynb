{
 "cells": [
  {
   "cell_type": "code",
   "execution_count": null,
   "metadata": {},
   "outputs": [],
   "source": [
    "## For first cell, importing local packages\n",
    "from dotenv import load_dotenv\n",
    "%load_ext autoreload\n",
    "%autoreload 2\n",
    "%load_ext dotenv\n",
    "%dotenv\n",
    "import os\n",
    "\n",
    "OPENAI_API_KEY = os.getenv(\"OPENAI_API_KEY\")\n",
    "MODEL = 'gemini-pro'\n",
    "DATA_DIR = \"/home/martin/obsidian/martineserios\"\n",
    "\n",
    "# load local packages\n",
    "from ai_agent import MarkdownVectorStore, QAChatBot\n",
    "\n",
    "# load external packages\n",
    "from langchain_community.vectorstores import DocArrayInMemorySearch\n"
   ]
  },
  {
   "cell_type": "code",
   "execution_count": null,
   "metadata": {},
   "outputs": [],
   "source": [
    "# vector_store = MarkdownVectorStore(\n",
    "#     vector_store=DocArrayInMemorySearch,\n",
    "#     dir=DATA_DIR,\n",
    "# )"
   ]
  },
  {
   "cell_type": "code",
   "execution_count": null,
   "metadata": {},
   "outputs": [],
   "source": [
    "# vector_store.retriever.invoke(\"What book do I read from Doren Adler?\")"
   ]
  },
  {
   "cell_type": "code",
   "execution_count": null,
   "metadata": {},
   "outputs": [],
   "source": [
    "# chatbot = QAChatBot(\n",
    "#     provider_key=GOOGLE_API_KEY,\n",
    "#     model=MODEL,\n",
    "#     )\n",
    "\n",
    "# chatbot.invoke(\"What is the name of the Argentinian capital city?\")"
   ]
  },
  {
   "cell_type": "code",
   "execution_count": null,
   "metadata": {},
   "outputs": [],
   "source": [
    "# prompt_template = \"\"\"\n",
    "#     Answer the question based on the context below. If you can't \n",
    "#     answer the question, reply \"I don't know\".\n",
    "\n",
    "#     Context: {context}\n",
    "\n",
    "#     Question: {question}\n",
    "# \"\"\"\n",
    "\n",
    "# test_prompt = chatbot.add_answering_prompt(name='test_prompt', template=prompt_template)\n",
    "\n",
    "# test_prompt.invoke({\"context\": \"My parents named me Santiago\", \"question\": \"What's your name'?\"})"
   ]
  },
  {
   "cell_type": "code",
   "execution_count": null,
   "metadata": {},
   "outputs": [],
   "source": []
  },
  {
   "cell_type": "code",
   "execution_count": null,
   "metadata": {},
   "outputs": [],
   "source": [
    "from rag import DocumentManager, EmbeddingManager, ConversationalRetrievalAgent"
   ]
  },
  {
   "cell_type": "code",
   "execution_count": null,
   "metadata": {},
   "outputs": [],
   "source": [
    "# Initialising and loading documents\n",
    "doc_manager = DocumentManager(DATA_DIR)\n",
    "doc_manager.load_documents()\n",
    "\n",
    "# split documents by header\n",
    "doc_manager.split_documents()\n"
   ]
  },
  {
   "cell_type": "code",
   "execution_count": null,
   "metadata": {},
   "outputs": [],
   "source": [
    "\n",
    "# Creation and persistence of embeddings\n",
    "embed_manager = EmbeddingManager(doc_manager.all_sections)\n",
    "embed_manager.create_and_persist_embeddings()\n"
   ]
  },
  {
   "cell_type": "code",
   "execution_count": null,
   "metadata": {},
   "outputs": [],
   "source": [
    "\n",
    "# Setup and use of conversation bots\n",
    "bot = ConversationalRetrievalAgent(embed_manager.vectordb)\n",
    "bot.setup_bot()\n",
    "\n"
   ]
  },
  {
   "cell_type": "code",
   "execution_count": null,
   "metadata": {},
   "outputs": [],
   "source": [
    "bot.ask_question(\"What can you tell me about my 🔥 Wildfire Detection System\")"
   ]
  },
  {
   "cell_type": "code",
   "execution_count": null,
   "metadata": {},
   "outputs": [],
   "source": []
  }
 ],
 "metadata": {
  "kernelspec": {
   "display_name": ".venv",
   "language": "python",
   "name": "python3"
  },
  "language_info": {
   "codemirror_mode": {
    "name": "ipython",
    "version": 3
   },
   "file_extension": ".py",
   "mimetype": "text/x-python",
   "name": "python",
   "nbconvert_exporter": "python",
   "pygments_lexer": "ipython3",
   "version": "3.10.12"
  }
 },
 "nbformat": 4,
 "nbformat_minor": 2
}
